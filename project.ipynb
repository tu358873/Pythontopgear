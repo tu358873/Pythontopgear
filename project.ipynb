{
 "cells": [
  {
   "cell_type": "code",
   "execution_count": null,
   "metadata": {},
   "outputs": [],
   "source": [
    "### Answer 1 ###\n",
    "range(0,4)\n",
    "range(0,4)\n",
    "range(0,4)\n",
    "range(0,4)"
   ]
  },
  {
   "cell_type": "code",
   "execution_count": null,
   "metadata": {},
   "outputs": [],
   "source": [
    "### Answer 2 ###\n",
    "0\n",
    "1\n",
    "8\n",
    "27\n",
    "64\n",
    "125"
   ]
  },
  {
   "cell_type": "code",
   "execution_count": null,
   "metadata": {},
   "outputs": [],
   "source": [
    "### Answer 3 ###\n",
    "x = input()\n",
    "n = x.count('e')\n",
    "if (n==2):\n",
    "    print ('True')\n",
    "else:\n",
    "    print ('False')"
   ]
  },
  {
   "cell_type": "code",
   "execution_count": null,
   "metadata": {},
   "outputs": [],
   "source": [
    "### Answer 4 ###\n",
    "None\n",
    "7"
   ]
  },
  {
   "cell_type": "code",
   "execution_count": null,
   "metadata": {},
   "outputs": [],
   "source": [
    "### Answer 5 ###\n",
    "\n",
    "def fileCount():\n",
    "    d = {\"lines\":0, \"words\": 0, \"lengths\":[]}\n",
    "    with open('python.txt', 'r') as f:\n",
    "        for line in f:\n",
    "            spl = line.split()\n",
    "            d[\"lines\"] += 1\n",
    "            d[\"words\"] += len(spl)\n",
    "            d[\"lengths\"].append(sum(len(word) for word in spl))\n",
    "    return d\n",
    "\n",
    "def main():\n",
    "    data = fileCount()\n",
    "    f = open('output.txt','w')\n",
    "    f.write(\"There are {lines} lines in the file.\\n\".format(**data))\n",
    "    f.write(\"There are {} characters in the file.\\n\".format(sum(data[\"lengths\"])))\n",
    "    f.write(\"There are {words} words in the file.\\n\".format(**data))\n",
    "    for ind, s in enumerate(data[\"lengths\"], 1):\n",
    "        f.write(\"Line: {} has {} characters.\\n\".format(ind, s))\n",
    "main()"
   ]
  },
  {
   "cell_type": "code",
   "execution_count": null,
   "metadata": {},
   "outputs": [],
   "source": [
    "### Answer 6 ###\n",
    "\n",
    "list1 = [12,32,434,5,45,34,5,345,45,34]\n",
    "list2 = [34,432,432,4,3,432,4,3,5,3,53,354,2,3,12,312,3,213,123,12,312]\n",
    "list3 = [643,32,56,78,678,574,4,32,45,678,8,87,643,23,12312]\n",
    "\n",
    "list1.sort(reverse = True)\n",
    "list2.sort(reverse = True)\n",
    "list3.sort(reverse =True)\n",
    "\n",
    "### a part\n",
    "maxlist = [list1[0],list1[1],list2[0],list2[1],list3[0],list3[1]]\n",
    "\n",
    "### b part\n",
    "maxavg = sum(maxlist)/len(maxlist)\n",
    "maxavg = round(maxavg,2)\n",
    "\n",
    "\n",
    "### c part\n",
    "minlist = [list1[-1],list1[-2],list2[-1],list2[-2],list3[-1],list3[-2]]\n",
    "\n",
    "### d part\n",
    "minavg = sum(minlist)/len(minlist)\n",
    "minavg = round(minavg,2)\n"
   ]
  },
  {
   "cell_type": "code",
   "execution_count": null,
   "metadata": {},
   "outputs": [],
   "source": [
    "### Answer 7 ###\n",
    "\n",
    "import sys\n",
    "from socket import inet_ntoa\n",
    "from struct import pack\n",
    "\n",
    "mask = int(input())\n",
    "\n",
    "def calcDottedNetmask(mask):\n",
    "    bits = 0xffffffff ^ (1 << 32 - mask) - 1\n",
    "    return inet_ntoa(pack('>I', bits))\n",
    "\n",
    "print (calcDottedNetmask(mask))"
   ]
  }
 ],
 "metadata": {
  "kernelspec": {
   "display_name": "Python 3",
   "language": "python",
   "name": "python3"
  },
  "language_info": {
   "codemirror_mode": {
    "name": "ipython",
    "version": 3
   },
   "file_extension": ".py",
   "mimetype": "text/x-python",
   "name": "python",
   "nbconvert_exporter": "python",
   "pygments_lexer": "ipython3",
   "version": "3.6.5"
  }
 },
 "nbformat": 4,
 "nbformat_minor": 2
}
